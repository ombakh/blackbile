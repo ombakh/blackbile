{
 "cells": [
  {
   "cell_type": "code",
   "id": "initial_id",
   "metadata": {
    "collapsed": true,
    "ExecuteTime": {
     "end_time": "2024-11-07T18:20:23.415393Z",
     "start_time": "2024-11-07T18:20:21.312471Z"
    }
   },
   "source": [
    "import pandas as pd\n",
    "import matplotlib.pyplot as plt\n",
    "from sklearn.preprocessing import LabelEncoder, StandardScaler\n",
    "from sklearn.model_selection import train_test_split\n",
    "import torch\n",
    "import torch.nn as nn\n",
    "import torch.optim as optim"
   ],
   "outputs": [],
   "execution_count": 1
  },
  {
   "metadata": {
    "ExecuteTime": {
     "end_time": "2024-11-07T18:20:38.787087Z",
     "start_time": "2024-11-07T18:20:38.775507Z"
    }
   },
   "cell_type": "code",
   "source": [
    "data = pd.read_csv('dataset/mental_health_dataset.csv') # Gets data from model\n",
    "print(data.head())"
   ],
   "id": "703f2cc978cb305c",
   "outputs": [
    {
     "name": "stdout",
     "output_type": "stream",
     "text": [
      "   User_ID  Age      Gender  Occupation    Country Mental_Health_Condition  \\\n",
      "0        1   36  Non-binary       Sales     Canada                      No   \n",
      "1        2   34      Female   Education         UK                     Yes   \n",
      "2        3   65  Non-binary       Sales        USA                     Yes   \n",
      "3        4   34        Male       Other  Australia                      No   \n",
      "4        5   22      Female  Healthcare     Canada                     Yes   \n",
      "\n",
      "  Severity Consultation_History Stress_Level  Sleep_Hours  Work_Hours  \\\n",
      "0   Medium                  Yes       Medium          7.1          46   \n",
      "1      NaN                   No          Low          7.5          47   \n",
      "2     High                   No          Low          8.4          58   \n",
      "3      Low                   No       Medium          9.8          30   \n",
      "4      Low                   No       Medium          4.9          62   \n",
      "\n",
      "   Physical_Activity_Hours  \n",
      "0                        5  \n",
      "1                        8  \n",
      "2                       10  \n",
      "3                        2  \n",
      "4                        5  \n"
     ]
    }
   ],
   "execution_count": 3
  },
  {
   "metadata": {},
   "cell_type": "code",
   "source": "pd.get_dummies(data)",
   "id": "d816b6af6cd76aa3",
   "outputs": [],
   "execution_count": null
  },
  {
   "metadata": {},
   "cell_type": "code",
   "source": [
    "# getting input for variables (eventually to be replaced by web-app\n",
    "# usr_age = input('Enter your age: ')\n",
    "# usr_gender = input('Enter your gender (M, F, NB, NA): ')\n",
    "# usr_sleep = input('How many hours a night do you sleep? : ')\n",
    "# usr_work = input('How many hours a week do you work? : ')\n",
    "# usr_fitness = input('How many hours a week do you excercise? : ')\n",
    "# usr_consult = input('Have you been consulted for a mental health condition in the past?: ')\n",
    "# usr_stress = input('What is your stress level?: ')\n"
   ],
   "id": "c46f63ba2bc37d3",
   "outputs": [],
   "execution_count": null
  },
  {
   "metadata": {},
   "cell_type": "code",
   "source": [
    "#correlation btwn age and hours worked\n",
    "plt.figure(figsize=(10, 6))\n",
    "plt.scatter(data['Age'], data['Work_Hours'], alpha=0.5)\n",
    "plt.title(\"Correlation between Age and Work Hours\")\n",
    "plt.xlabel(\"Age\")\n",
    "plt.ylabel(\"Work Hours\")\n",
    "plt.grid(True)\n",
    "plt.show()"
   ],
   "id": "f3483cd12ed2c4f",
   "outputs": [],
   "execution_count": null
  },
  {
   "metadata": {},
   "cell_type": "code",
   "source": "plt.bar(data['Gender'], data['Sleep_Hours'], color='blue')",
   "id": "84e3cfec0631d8f7",
   "outputs": [],
   "execution_count": null
  },
  {
   "metadata": {
    "ExecuteTime": {
     "end_time": "2024-11-07T18:22:20.379844Z",
     "start_time": "2024-11-07T18:22:20.377872Z"
    }
   },
   "cell_type": "code",
   "source": [
    "label_encoders = {}\n",
    "categorical_columns = ['Gender', 'Occupation', 'Country', 'Severity', 'Consultation_History', 'Stress_Level']"
   ],
   "id": "9af267353b1ce98e",
   "outputs": [],
   "execution_count": 4
  },
  {
   "metadata": {
    "ExecuteTime": {
     "end_time": "2024-11-07T18:23:52.774756Z",
     "start_time": "2024-11-07T18:23:52.767690Z"
    }
   },
   "cell_type": "code",
   "source": [
    "# loop to convert values into numerical data that can be used by the model\n",
    "for column in categorical_columns: \n",
    "    le = LabelEncoder()\n",
    "    data[column] = le.fit_transform(data[column])\n",
    "    label_encoders[column] = le"
   ],
   "id": "8bcea14baac59e71",
   "outputs": [],
   "execution_count": 5
  },
  {
   "metadata": {
    "ExecuteTime": {
     "end_time": "2024-11-07T18:26:12.354680Z",
     "start_time": "2024-11-07T18:26:12.352114Z"
    }
   },
   "cell_type": "code",
   "source": [
    "# selects target data, which is mental health condition in this case (we are trying to predict it)\n",
    "target_encoder = LabelEncoder()\n",
    "data['Mental_Health_Condition'] = target_encoder.fit_transform(data['Mental_Health_Condition'])"
   ],
   "id": "8717d49dd5fd7b31",
   "outputs": [],
   "execution_count": 6
  },
  {
   "metadata": {
    "ExecuteTime": {
     "end_time": "2024-11-07T18:27:13.868983Z",
     "start_time": "2024-11-07T18:27:13.866765Z"
    }
   },
   "cell_type": "code",
   "source": [
    "# sets features and target\n",
    "features = ['Age', 'Gender', 'Stress_Level', 'Sleep_Hours', 'Work_Hours', 'Physical_Activity_Hours']\n",
    "target = 'Mental_Health_Condition'"
   ],
   "id": "37ee04eaa8e91677",
   "outputs": [],
   "execution_count": 7
  },
  {
   "metadata": {
    "ExecuteTime": {
     "end_time": "2024-11-07T18:29:15.837726Z",
     "start_time": "2024-11-07T18:29:15.835233Z"
    }
   },
   "cell_type": "code",
   "source": [
    "X = data[features] # conventional names to represent feats and target are X and y\n",
    "y = data[target]"
   ],
   "id": "e31d17021a0e9b5a",
   "outputs": [],
   "execution_count": 9
  },
  {
   "metadata": {
    "ExecuteTime": {
     "end_time": "2024-11-07T18:31:14.683153Z",
     "start_time": "2024-11-07T18:31:14.670006Z"
    }
   },
   "cell_type": "code",
   "source": [
    "#for normalizing data (scales x so mean to 0 and SD to 1)\n",
    "scaler = StandardScaler()\n",
    "X = scaler.fit_transform(X) "
   ],
   "id": "824b722a43e539e9",
   "outputs": [],
   "execution_count": 10
  },
  {
   "metadata": {},
   "cell_type": "code",
   "outputs": [],
   "execution_count": null,
   "source": "",
   "id": "889c8ea589ed3327"
  }
 ],
 "metadata": {
  "kernelspec": {
   "display_name": "Python 3",
   "language": "python",
   "name": "python3"
  },
  "language_info": {
   "codemirror_mode": {
    "name": "ipython",
    "version": 2
   },
   "file_extension": ".py",
   "mimetype": "text/x-python",
   "name": "python",
   "nbconvert_exporter": "python",
   "pygments_lexer": "ipython2",
   "version": "2.7.6"
  }
 },
 "nbformat": 4,
 "nbformat_minor": 5
}
