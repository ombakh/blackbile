{
 "cells": [
  {
   "cell_type": "code",
   "id": "initial_id",
   "metadata": {
    "collapsed": true,
    "ExecuteTime": {
     "end_time": "2024-11-07T18:20:23.415393Z",
     "start_time": "2024-11-07T18:20:21.312471Z"
    }
   },
   "source": [
    "import pandas as pd\n",
    "import matplotlib.pyplot as plt\n",
    "from sklearn.preprocessing import LabelEncoder, StandardScaler\n",
    "from sklearn.model_selection import train_test_split\n",
    "import torch\n",
    "import torch.nn as nn\n",
    "import torch.optim as optim"
   ],
   "outputs": [],
   "execution_count": 1
  },
  {
   "metadata": {
    "ExecuteTime": {
     "end_time": "2024-11-07T18:20:38.787087Z",
     "start_time": "2024-11-07T18:20:38.775507Z"
    }
   },
   "cell_type": "code",
   "source": [
    "data = pd.read_csv('dataset/mental_health_dataset.csv') # Gets data from model\n",
    "print(data.head())"
   ],
   "id": "703f2cc978cb305c",
   "outputs": [
    {
     "name": "stdout",
     "output_type": "stream",
     "text": [
      "   User_ID  Age      Gender  Occupation    Country Mental_Health_Condition  \\\n",
      "0        1   36  Non-binary       Sales     Canada                      No   \n",
      "1        2   34      Female   Education         UK                     Yes   \n",
      "2        3   65  Non-binary       Sales        USA                     Yes   \n",
      "3        4   34        Male       Other  Australia                      No   \n",
      "4        5   22      Female  Healthcare     Canada                     Yes   \n",
      "\n",
      "  Severity Consultation_History Stress_Level  Sleep_Hours  Work_Hours  \\\n",
      "0   Medium                  Yes       Medium          7.1          46   \n",
      "1      NaN                   No          Low          7.5          47   \n",
      "2     High                   No          Low          8.4          58   \n",
      "3      Low                   No       Medium          9.8          30   \n",
      "4      Low                   No       Medium          4.9          62   \n",
      "\n",
      "   Physical_Activity_Hours  \n",
      "0                        5  \n",
      "1                        8  \n",
      "2                       10  \n",
      "3                        2  \n",
      "4                        5  \n"
     ]
    }
   ],
   "execution_count": 3
  },
  {
   "metadata": {},
   "cell_type": "code",
   "source": "pd.get_dummies(data)",
   "id": "d816b6af6cd76aa3",
   "outputs": [],
   "execution_count": null
  },
  {
   "metadata": {},
   "cell_type": "code",
   "source": [
    "# getting input for variables (eventually to be replaced by web-app\n",
    "# usr_age = input('Enter your age: ')\n",
    "# usr_gender = input('Enter your gender (M, F, NB, NA): ')\n",
    "# usr_sleep = input('How many hours a night do you sleep? : ')\n",
    "# usr_work = input('How many hours a week do you work? : ')\n",
    "# usr_fitness = input('How many hours a week do you excercise? : ')\n",
    "# usr_consult = input('Have you been consulted for a mental health condition in the past?: ')\n",
    "# usr_stress = input('What is your stress level?: ')\n"
   ],
   "id": "c46f63ba2bc37d3",
   "outputs": [],
   "execution_count": null
  },
  {
   "metadata": {},
   "cell_type": "code",
   "source": [
    "#correlation btwn age and hours worked\n",
    "plt.figure(figsize=(10, 6))\n",
    "plt.scatter(data['Age'], data['Work_Hours'], alpha=0.5)\n",
    "plt.title(\"Correlation between Age and Work Hours\")\n",
    "plt.xlabel(\"Age\")\n",
    "plt.ylabel(\"Work Hours\")\n",
    "plt.grid(True)\n",
    "plt.show()"
   ],
   "id": "f3483cd12ed2c4f",
   "outputs": [],
   "execution_count": null
  },
  {
   "metadata": {},
   "cell_type": "code",
   "source": "plt.bar(data['Gender'], data['Sleep_Hours'], color='blue')",
   "id": "84e3cfec0631d8f7",
   "outputs": [],
   "execution_count": null
  },
  {
   "metadata": {
    "ExecuteTime": {
     "end_time": "2024-11-07T18:22:20.379844Z",
     "start_time": "2024-11-07T18:22:20.377872Z"
    }
   },
   "cell_type": "code",
   "source": [
    "label_encoders = {}\n",
    "categorical_columns = ['Gender', 'Occupation', 'Country', 'Severity', 'Consultation_History', 'Stress_Level']"
   ],
   "id": "9af267353b1ce98e",
   "outputs": [],
   "execution_count": 4
  },
  {
   "metadata": {
    "ExecuteTime": {
     "end_time": "2024-11-07T18:23:52.774756Z",
     "start_time": "2024-11-07T18:23:52.767690Z"
    }
   },
   "cell_type": "code",
   "source": [
    "# loop to convert values into numerical data that can be used by the model\n",
    "for column in categorical_columns: \n",
    "    le = LabelEncoder()\n",
    "    data[column] = le.fit_transform(data[column])\n",
    "    label_encoders[column] = le"
   ],
   "id": "8bcea14baac59e71",
   "outputs": [],
   "execution_count": 5
  },
  {
   "metadata": {
    "ExecuteTime": {
     "end_time": "2024-11-07T18:26:12.354680Z",
     "start_time": "2024-11-07T18:26:12.352114Z"
    }
   },
   "cell_type": "code",
   "source": [
    "# selects target data, which is mental health condition in this case (we are trying to predict it)\n",
    "target_encoder = LabelEncoder()\n",
    "data['Mental_Health_Condition'] = target_encoder.fit_transform(data['Mental_Health_Condition'])"
   ],
   "id": "8717d49dd5fd7b31",
   "outputs": [],
   "execution_count": 6
  },
  {
   "metadata": {
    "ExecuteTime": {
     "end_time": "2024-11-07T18:27:13.868983Z",
     "start_time": "2024-11-07T18:27:13.866765Z"
    }
   },
   "cell_type": "code",
   "source": [
    "# sets features and target\n",
    "features = ['Age', 'Gender', 'Stress_Level', 'Sleep_Hours', 'Work_Hours', 'Physical_Activity_Hours']\n",
    "target = 'Mental_Health_Condition'"
   ],
   "id": "37ee04eaa8e91677",
   "outputs": [],
   "execution_count": 7
  },
  {
   "metadata": {
    "ExecuteTime": {
     "end_time": "2024-11-07T18:29:15.837726Z",
     "start_time": "2024-11-07T18:29:15.835233Z"
    }
   },
   "cell_type": "code",
   "source": [
    "X = data[features] # conventional names to represent feats and target are X and y\n",
    "y = data[target]"
   ],
   "id": "e31d17021a0e9b5a",
   "outputs": [],
   "execution_count": 9
  },
  {
   "metadata": {
    "ExecuteTime": {
     "end_time": "2024-11-07T18:31:14.683153Z",
     "start_time": "2024-11-07T18:31:14.670006Z"
    }
   },
   "cell_type": "code",
   "source": [
    "#for normalizing data (scales x so mean to 0 and SD to 1)\n",
    "scaler = StandardScaler()\n",
    "X = scaler.fit_transform(X) "
   ],
   "id": "824b722a43e539e9",
   "outputs": [],
   "execution_count": 10
  },
  {
   "metadata": {
    "ExecuteTime": {
     "end_time": "2024-11-07T18:32:48.260253Z",
     "start_time": "2024-11-07T18:32:48.255075Z"
    }
   },
   "cell_type": "code",
   "source": [
    "# splitting training and testing data 70% 30%\n",
    "X_train, X_test, y_train, y_test = train_test_split(X, y, test_size=0.3, random_state=13)\n"
   ],
   "id": "889c8ea589ed3327",
   "outputs": [],
   "execution_count": 11
  },
  {
   "metadata": {
    "ExecuteTime": {
     "end_time": "2024-11-07T18:39:18.576881Z",
     "start_time": "2024-11-07T18:39:18.566160Z"
    }
   },
   "cell_type": "code",
   "source": [
    "# making tensors based off data\n",
    "X_train_tensor = torch.tensor(X_train, dtype=torch.float32)\n",
    "X_test_tensor = torch.tensor(X_test, dtype=torch.float32)\n",
    "y_train_tensor = torch.tensor(y_train.values, dtype=torch.long)\n",
    "y_test_tensor = torch.tensor(y_test.values, dtype=torch.long)"
   ],
   "id": "4838b3f4c2818b3b",
   "outputs": [],
   "execution_count": 12
  },
  {
   "metadata": {
    "ExecuteTime": {
     "end_time": "2024-11-07T18:39:53.234630Z",
     "start_time": "2024-11-07T18:39:53.231988Z"
    }
   },
   "cell_type": "code",
   "source": [
    "print(X_train_tensor.shape)\n",
    "print(X_test_tensor.shape)\n",
    "print(y_train_tensor.shape)\n",
    "print(y_test_tensor.shape)"
   ],
   "id": "9bedb962c903657c",
   "outputs": [
    {
     "name": "stdout",
     "output_type": "stream",
     "text": [
      "torch.Size([700, 6])\n",
      "torch.Size([300, 6])\n",
      "torch.Size([700])\n",
      "torch.Size([300])\n"
     ]
    }
   ],
   "execution_count": 15
  },
  {
   "metadata": {
    "ExecuteTime": {
     "end_time": "2024-11-07T19:16:31.979322Z",
     "start_time": "2024-11-07T19:16:31.975705Z"
    }
   },
   "cell_type": "code",
   "source": [
    "#MODEL CREATION\n",
    "class MentalHealthModel(nn.Module):\n",
    "    def __init__(self, input_size):\n",
    "        super(MentalHealthModel, self).__init__()\n",
    "        # 3 fully connected linear layers\n",
    "        self.fc1 = nn.Linear(input_size, 32) # outputs 32 neurons from input_size\n",
    "        self.fc2 = nn.Linear(32, 16) # condenses 32 to 16\n",
    "        self.fc3 = nn.Linear(16, 8) # condenses 16 neurons down to 8\n",
    "        self.fc4 = nn.Linear(8, 2) # takes in the 8 returned from fc2 and outputs bool value\n",
    "        \n",
    "    #FORWARD PASS\n",
    "\n",
    "    def forward(self, x):\n",
    "        x = torch.relu(self.fc1(x)) #NON-LINEAR LAYERS \n",
    "        x = torch.relu(self.fc2(x))\n",
    "        x = torch.relu(self.fc3(x))\n",
    "        x = self.fc3(x)\n",
    "        return x"
   ],
   "id": "c2a3b6f56d3f7fc",
   "outputs": [],
   "execution_count": 18
  },
  {
   "metadata": {
    "ExecuteTime": {
     "end_time": "2024-11-07T19:22:07.805981Z",
     "start_time": "2024-11-07T19:22:07.381257Z"
    }
   },
   "cell_type": "code",
   "source": [
    "input_size = X_train_tensor.shape[1] \n",
    "model = MentalHealthModel(input_size) # model initialized\n",
    "criterion = nn.CrossEntropyLoss() # loss function initialized\n",
    "optimizer = optim.Adam(model.parameters(), lr=0.001) # optimizer initialized\n"
   ],
   "id": "a751c0ec8c74fd2c",
   "outputs": [],
   "execution_count": 19
  },
  {
   "metadata": {},
   "cell_type": "code",
   "outputs": [],
   "execution_count": null,
   "source": "",
   "id": "10c64210a63555b0"
  }
 ],
 "metadata": {
  "kernelspec": {
   "display_name": "Python 3",
   "language": "python",
   "name": "python3"
  },
  "language_info": {
   "codemirror_mode": {
    "name": "ipython",
    "version": 2
   },
   "file_extension": ".py",
   "mimetype": "text/x-python",
   "name": "python",
   "nbconvert_exporter": "python",
   "pygments_lexer": "ipython2",
   "version": "2.7.6"
  }
 },
 "nbformat": 4,
 "nbformat_minor": 5
}
