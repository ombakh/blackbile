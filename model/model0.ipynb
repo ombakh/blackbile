{
 "cells": [
  {
   "cell_type": "code",
   "id": "initial_id",
   "metadata": {
    "collapsed": true,
    "ExecuteTime": {
     "end_time": "2024-11-25T13:19:19.152366Z",
     "start_time": "2024-11-25T13:19:10.160022Z"
    }
   },
   "source": [
    "import pandas as pd\n",
    "import matplotlib.pyplot as plt\n",
    "from sklearn.preprocessing import LabelEncoder, StandardScaler\n",
    "from sklearn.model_selection import train_test_split\n",
    "import torch\n",
    "import torch.nn as nn\n",
    "import torch.optim as optim"
   ],
   "outputs": [],
   "execution_count": 2
  },
  {
   "metadata": {
    "ExecuteTime": {
     "end_time": "2024-11-25T13:19:19.166455Z",
     "start_time": "2024-11-25T13:19:19.153363Z"
    }
   },
   "cell_type": "code",
   "source": [
    "data = pd.read_csv('dataset/MHTech.csv') # Gets data from model\n",
    "print(data.head())"
   ],
   "id": "703f2cc978cb305c",
   "outputs": [
    {
     "name": "stdout",
     "output_type": "stream",
     "text": [
      "             Timestamp  Age  Gender         Country state self_employed  \\\n",
      "0  2014-08-27 11:29:31   37  Female   United States    IL           NaN   \n",
      "1  2014-08-27 11:29:37   44       M   United States    IN           NaN   \n",
      "2  2014-08-27 11:29:44   32    Male          Canada   NaN           NaN   \n",
      "3  2014-08-27 11:29:46   31    Male  United Kingdom   NaN           NaN   \n",
      "4  2014-08-27 11:30:22   31    Male   United States    TX           NaN   \n",
      "\n",
      "  family_history treatment work_interfere    no_employees  ...  \\\n",
      "0             No       Yes          Often            6-25  ...   \n",
      "1             No        No         Rarely  More than 1000  ...   \n",
      "2             No        No         Rarely            6-25  ...   \n",
      "3            Yes       Yes          Often          26-100  ...   \n",
      "4             No        No          Never         100-500  ...   \n",
      "\n",
      "                leave mental_health_consequence phys_health_consequence  \\\n",
      "0       Somewhat easy                        No                      No   \n",
      "1          Don't know                     Maybe                      No   \n",
      "2  Somewhat difficult                        No                      No   \n",
      "3  Somewhat difficult                       Yes                     Yes   \n",
      "4          Don't know                        No                      No   \n",
      "\n",
      "      coworkers supervisor mental_health_interview phys_health_interview  \\\n",
      "0  Some of them        Yes                      No                 Maybe   \n",
      "1            No         No                      No                    No   \n",
      "2           Yes        Yes                     Yes                   Yes   \n",
      "3  Some of them         No                   Maybe                 Maybe   \n",
      "4  Some of them        Yes                     Yes                   Yes   \n",
      "\n",
      "  mental_vs_physical obs_consequence comments  \n",
      "0                Yes              No      NaN  \n",
      "1         Don't know              No      NaN  \n",
      "2                 No              No      NaN  \n",
      "3                 No             Yes      NaN  \n",
      "4         Don't know              No      NaN  \n",
      "\n",
      "[5 rows x 27 columns]\n"
     ]
    }
   ],
   "execution_count": 3
  },
  {
   "metadata": {
    "ExecuteTime": {
     "end_time": "2024-11-25T13:19:43.211921Z",
     "start_time": "2024-11-25T13:19:43.191081Z"
    }
   },
   "cell_type": "code",
   "source": "pd.get_dummies(data)",
   "id": "d816b6af6cd76aa3",
   "outputs": [
    {
     "data": {
      "text/plain": [
       "      Age  Timestamp_2014-08-27 11:29:31  Timestamp_2014-08-27 11:29:37  \\\n",
       "0      37                           True                          False   \n",
       "1      44                          False                           True   \n",
       "2      32                          False                          False   \n",
       "3      31                          False                          False   \n",
       "4      31                          False                          False   \n",
       "...   ...                            ...                            ...   \n",
       "1254   26                          False                          False   \n",
       "1255   32                          False                          False   \n",
       "1256   34                          False                          False   \n",
       "1257   46                          False                          False   \n",
       "1258   25                          False                          False   \n",
       "\n",
       "      Timestamp_2014-08-27 11:29:44  Timestamp_2014-08-27 11:29:46  \\\n",
       "0                             False                          False   \n",
       "1                             False                          False   \n",
       "2                              True                          False   \n",
       "3                             False                           True   \n",
       "4                             False                          False   \n",
       "...                             ...                            ...   \n",
       "1254                          False                          False   \n",
       "1255                          False                          False   \n",
       "1256                          False                          False   \n",
       "1257                          False                          False   \n",
       "1258                          False                          False   \n",
       "\n",
       "      Timestamp_2014-08-27 11:30:22  Timestamp_2014-08-27 11:31:22  \\\n",
       "0                             False                          False   \n",
       "1                             False                          False   \n",
       "2                             False                          False   \n",
       "3                             False                          False   \n",
       "4                              True                          False   \n",
       "...                             ...                            ...   \n",
       "1254                          False                          False   \n",
       "1255                          False                          False   \n",
       "1256                          False                          False   \n",
       "1257                          False                          False   \n",
       "1258                          False                          False   \n",
       "\n",
       "      Timestamp_2014-08-27 11:31:50  Timestamp_2014-08-27 11:32:05  \\\n",
       "0                             False                          False   \n",
       "1                             False                          False   \n",
       "2                             False                          False   \n",
       "3                             False                          False   \n",
       "4                             False                          False   \n",
       "...                             ...                            ...   \n",
       "1254                          False                          False   \n",
       "1255                          False                          False   \n",
       "1256                          False                          False   \n",
       "1257                          False                          False   \n",
       "1258                          False                          False   \n",
       "\n",
       "      Timestamp_2014-08-27 11:32:39  ...  \\\n",
       "0                             False  ...   \n",
       "1                             False  ...   \n",
       "2                             False  ...   \n",
       "3                             False  ...   \n",
       "4                             False  ...   \n",
       "...                             ...  ...   \n",
       "1254                          False  ...   \n",
       "1255                          False  ...   \n",
       "1256                          False  ...   \n",
       "1257                          False  ...   \n",
       "1258                          False  ...   \n",
       "\n",
       "      comments_Would you bring up a mental health issue with a potential employer in an interview?Poignant.  \\\n",
       "0                                                 False                                                       \n",
       "1                                                 False                                                       \n",
       "2                                                 False                                                       \n",
       "3                                                 False                                                       \n",
       "4                                                 False                                                       \n",
       "...                                                 ...                                                       \n",
       "1254                                              False                                                       \n",
       "1255                                              False                                                       \n",
       "1256                                              False                                                       \n",
       "1257                                              False                                                       \n",
       "1258                                              False                                                       \n",
       "\n",
       "      comments_YOU MAY WANT TO THROW OUT MY ENTRY.I answered all of these questions with the assumption that Attention Deficit Disorder is considered a mental illness and with ADD in mind.  \\\n",
       "0                                                 False                                                                                                                                        \n",
       "1                                                 False                                                                                                                                        \n",
       "2                                                 False                                                                                                                                        \n",
       "3                                                 False                                                                                                                                        \n",
       "4                                                 False                                                                                                                                        \n",
       "...                                                 ...                                                                                                                                        \n",
       "1254                                              False                                                                                                                                        \n",
       "1255                                              False                                                                                                                                        \n",
       "1256                                              False                                                                                                                                        \n",
       "1257                                              False                                                                                                                                        \n",
       "1258                                              False                                                                                                                                        \n",
       "\n",
       "      comments_as a UK-based company we don't have any medical provisions as it's all provided on the National Health Service (for now!) However if we do need to take days off for any kind of health problems everyone is understanding :)  \\\n",
       "0                                                 False                                                                                                                                                                                        \n",
       "1                                                 False                                                                                                                                                                                        \n",
       "2                                                 False                                                                                                                                                                                        \n",
       "3                                                 False                                                                                                                                                                                        \n",
       "4                                                 False                                                                                                                                                                                        \n",
       "...                                                 ...                                                                                                                                                                                        \n",
       "1254                                              False                                                                                                                                                                                        \n",
       "1255                                              False                                                                                                                                                                                        \n",
       "1256                                              False                                                                                                                                                                                        \n",
       "1257                                              False                                                                                                                                                                                        \n",
       "1258                                              False                                                                                                                                                                                        \n",
       "\n",
       "      comments_fwiw I am a co founder of this company and the would you X in an interview questions shouldn't reflect how I would treat anyone addressing their own phys/mental health issue to me in such a situation.   \\\n",
       "0                                                 False                                                                                                                                                                    \n",
       "1                                                 False                                                                                                                                                                    \n",
       "2                                                 False                                                                                                                                                                    \n",
       "3                                                 False                                                                                                                                                                    \n",
       "4                                                 False                                                                                                                                                                    \n",
       "...                                                 ...                                                                                                                                                                    \n",
       "1254                                              False                                                                                                                                                                    \n",
       "1255                                              False                                                                                                                                                                    \n",
       "1256                                              False                                                                                                                                                                    \n",
       "1257                                              False                                                                                                                                                                    \n",
       "1258                                              False                                                                                                                                                                    \n",
       "\n",
       "      comments_i'm in a country with social health care so my options are not dependant on my employer. this makes a few of the early questions less relevant than they would be for a resident of the US.  \\\n",
       "0                                                 False                                                                                                                                                      \n",
       "1                                                 False                                                                                                                                                      \n",
       "2                                                 False                                                                                                                                                      \n",
       "3                                                 False                                                                                                                                                      \n",
       "4                                                 False                                                                                                                                                      \n",
       "...                                                 ...                                                                                                                                                      \n",
       "1254                                              False                                                                                                                                                      \n",
       "1255                                              False                                                                                                                                                      \n",
       "1256                                              False                                                                                                                                                      \n",
       "1257                                              False                                                                                                                                                      \n",
       "1258                                              False                                                                                                                                                      \n",
       "\n",
       "      comments_it is my opinion that bad mental health is a red flag for employers and i would never bring it up.  \\\n",
       "0                                                 False                                                             \n",
       "1                                                 False                                                             \n",
       "2                                                 False                                                             \n",
       "3                                                 False                                                             \n",
       "4                                                 False                                                             \n",
       "...                                                 ...                                                             \n",
       "1254                                              False                                                             \n",
       "1255                                              False                                                             \n",
       "1256                                              False                                                             \n",
       "1257                                              False                                                             \n",
       "1258                                              False                                                             \n",
       "\n",
       "      comments_password: testered  \\\n",
       "0                           False   \n",
       "1                           False   \n",
       "2                           False   \n",
       "3                           False   \n",
       "4                           False   \n",
       "...                           ...   \n",
       "1254                        False   \n",
       "1255                        False   \n",
       "1256                        False   \n",
       "1257                        False   \n",
       "1258                        False   \n",
       "\n",
       "      comments_suffer from CR-PTSD so all answered based on that  \\\n",
       "0                                                 False            \n",
       "1                                                 False            \n",
       "2                                                 False            \n",
       "3                                                 False            \n",
       "4                                                 False            \n",
       "...                                                 ...            \n",
       "1254                                              False            \n",
       "1255                                              False            \n",
       "1256                                              False            \n",
       "1257                                              False            \n",
       "1258                                              False            \n",
       "\n",
       "      comments_thanks for what you're doing. FYI these questions dont quite work for entrepreneurs where employer == cofounders / sr mgmt / me  \\\n",
       "0                                                 False                                                                                          \n",
       "1                                                 False                                                                                          \n",
       "2                                                 False                                                                                          \n",
       "3                                                 False                                                                                          \n",
       "4                                                 False                                                                                          \n",
       "...                                                 ...                                                                                          \n",
       "1254                                              False                                                                                          \n",
       "1255                                              False                                                                                          \n",
       "1256                                              False                                                                                          \n",
       "1257                                              False                                                                                          \n",
       "1258                                              False                                                                                          \n",
       "\n",
       "      comments_you rock for doing this!  \n",
       "0                                 False  \n",
       "1                                 False  \n",
       "2                                 False  \n",
       "3                                 False  \n",
       "4                                 False  \n",
       "...                                 ...  \n",
       "1254                              False  \n",
       "1255                              False  \n",
       "1256                              False  \n",
       "1257                              False  \n",
       "1258                              False  \n",
       "\n",
       "[1259 rows x 1612 columns]"
      ],
      "text/html": [
       "<div>\n",
       "<style scoped>\n",
       "    .dataframe tbody tr th:only-of-type {\n",
       "        vertical-align: middle;\n",
       "    }\n",
       "\n",
       "    .dataframe tbody tr th {\n",
       "        vertical-align: top;\n",
       "    }\n",
       "\n",
       "    .dataframe thead th {\n",
       "        text-align: right;\n",
       "    }\n",
       "</style>\n",
       "<table border=\"1\" class=\"dataframe\">\n",
       "  <thead>\n",
       "    <tr style=\"text-align: right;\">\n",
       "      <th></th>\n",
       "      <th>Age</th>\n",
       "      <th>Timestamp_2014-08-27 11:29:31</th>\n",
       "      <th>Timestamp_2014-08-27 11:29:37</th>\n",
       "      <th>Timestamp_2014-08-27 11:29:44</th>\n",
       "      <th>Timestamp_2014-08-27 11:29:46</th>\n",
       "      <th>Timestamp_2014-08-27 11:30:22</th>\n",
       "      <th>Timestamp_2014-08-27 11:31:22</th>\n",
       "      <th>Timestamp_2014-08-27 11:31:50</th>\n",
       "      <th>Timestamp_2014-08-27 11:32:05</th>\n",
       "      <th>Timestamp_2014-08-27 11:32:39</th>\n",
       "      <th>...</th>\n",
       "      <th>comments_Would you bring up a mental health issue with a potential employer in an interview?Poignant.</th>\n",
       "      <th>comments_YOU MAY WANT TO THROW OUT MY ENTRY.I answered all of these questions with the assumption that Attention Deficit Disorder is considered a mental illness and with ADD in mind.</th>\n",
       "      <th>comments_as a UK-based company we don't have any medical provisions as it's all provided on the National Health Service (for now!) However if we do need to take days off for any kind of health problems everyone is understanding :)</th>\n",
       "      <th>comments_fwiw I am a co founder of this company and the would you X in an interview questions shouldn't reflect how I would treat anyone addressing their own phys/mental health issue to me in such a situation.</th>\n",
       "      <th>comments_i'm in a country with social health care so my options are not dependant on my employer. this makes a few of the early questions less relevant than they would be for a resident of the US.</th>\n",
       "      <th>comments_it is my opinion that bad mental health is a red flag for employers and i would never bring it up.</th>\n",
       "      <th>comments_password: testered</th>\n",
       "      <th>comments_suffer from CR-PTSD so all answered based on that</th>\n",
       "      <th>comments_thanks for what you're doing. FYI these questions dont quite work for entrepreneurs where employer == cofounders / sr mgmt / me</th>\n",
       "      <th>comments_you rock for doing this!</th>\n",
       "    </tr>\n",
       "  </thead>\n",
       "  <tbody>\n",
       "    <tr>\n",
       "      <th>0</th>\n",
       "      <td>37</td>\n",
       "      <td>True</td>\n",
       "      <td>False</td>\n",
       "      <td>False</td>\n",
       "      <td>False</td>\n",
       "      <td>False</td>\n",
       "      <td>False</td>\n",
       "      <td>False</td>\n",
       "      <td>False</td>\n",
       "      <td>False</td>\n",
       "      <td>...</td>\n",
       "      <td>False</td>\n",
       "      <td>False</td>\n",
       "      <td>False</td>\n",
       "      <td>False</td>\n",
       "      <td>False</td>\n",
       "      <td>False</td>\n",
       "      <td>False</td>\n",
       "      <td>False</td>\n",
       "      <td>False</td>\n",
       "      <td>False</td>\n",
       "    </tr>\n",
       "    <tr>\n",
       "      <th>1</th>\n",
       "      <td>44</td>\n",
       "      <td>False</td>\n",
       "      <td>True</td>\n",
       "      <td>False</td>\n",
       "      <td>False</td>\n",
       "      <td>False</td>\n",
       "      <td>False</td>\n",
       "      <td>False</td>\n",
       "      <td>False</td>\n",
       "      <td>False</td>\n",
       "      <td>...</td>\n",
       "      <td>False</td>\n",
       "      <td>False</td>\n",
       "      <td>False</td>\n",
       "      <td>False</td>\n",
       "      <td>False</td>\n",
       "      <td>False</td>\n",
       "      <td>False</td>\n",
       "      <td>False</td>\n",
       "      <td>False</td>\n",
       "      <td>False</td>\n",
       "    </tr>\n",
       "    <tr>\n",
       "      <th>2</th>\n",
       "      <td>32</td>\n",
       "      <td>False</td>\n",
       "      <td>False</td>\n",
       "      <td>True</td>\n",
       "      <td>False</td>\n",
       "      <td>False</td>\n",
       "      <td>False</td>\n",
       "      <td>False</td>\n",
       "      <td>False</td>\n",
       "      <td>False</td>\n",
       "      <td>...</td>\n",
       "      <td>False</td>\n",
       "      <td>False</td>\n",
       "      <td>False</td>\n",
       "      <td>False</td>\n",
       "      <td>False</td>\n",
       "      <td>False</td>\n",
       "      <td>False</td>\n",
       "      <td>False</td>\n",
       "      <td>False</td>\n",
       "      <td>False</td>\n",
       "    </tr>\n",
       "    <tr>\n",
       "      <th>3</th>\n",
       "      <td>31</td>\n",
       "      <td>False</td>\n",
       "      <td>False</td>\n",
       "      <td>False</td>\n",
       "      <td>True</td>\n",
       "      <td>False</td>\n",
       "      <td>False</td>\n",
       "      <td>False</td>\n",
       "      <td>False</td>\n",
       "      <td>False</td>\n",
       "      <td>...</td>\n",
       "      <td>False</td>\n",
       "      <td>False</td>\n",
       "      <td>False</td>\n",
       "      <td>False</td>\n",
       "      <td>False</td>\n",
       "      <td>False</td>\n",
       "      <td>False</td>\n",
       "      <td>False</td>\n",
       "      <td>False</td>\n",
       "      <td>False</td>\n",
       "    </tr>\n",
       "    <tr>\n",
       "      <th>4</th>\n",
       "      <td>31</td>\n",
       "      <td>False</td>\n",
       "      <td>False</td>\n",
       "      <td>False</td>\n",
       "      <td>False</td>\n",
       "      <td>True</td>\n",
       "      <td>False</td>\n",
       "      <td>False</td>\n",
       "      <td>False</td>\n",
       "      <td>False</td>\n",
       "      <td>...</td>\n",
       "      <td>False</td>\n",
       "      <td>False</td>\n",
       "      <td>False</td>\n",
       "      <td>False</td>\n",
       "      <td>False</td>\n",
       "      <td>False</td>\n",
       "      <td>False</td>\n",
       "      <td>False</td>\n",
       "      <td>False</td>\n",
       "      <td>False</td>\n",
       "    </tr>\n",
       "    <tr>\n",
       "      <th>...</th>\n",
       "      <td>...</td>\n",
       "      <td>...</td>\n",
       "      <td>...</td>\n",
       "      <td>...</td>\n",
       "      <td>...</td>\n",
       "      <td>...</td>\n",
       "      <td>...</td>\n",
       "      <td>...</td>\n",
       "      <td>...</td>\n",
       "      <td>...</td>\n",
       "      <td>...</td>\n",
       "      <td>...</td>\n",
       "      <td>...</td>\n",
       "      <td>...</td>\n",
       "      <td>...</td>\n",
       "      <td>...</td>\n",
       "      <td>...</td>\n",
       "      <td>...</td>\n",
       "      <td>...</td>\n",
       "      <td>...</td>\n",
       "      <td>...</td>\n",
       "    </tr>\n",
       "    <tr>\n",
       "      <th>1254</th>\n",
       "      <td>26</td>\n",
       "      <td>False</td>\n",
       "      <td>False</td>\n",
       "      <td>False</td>\n",
       "      <td>False</td>\n",
       "      <td>False</td>\n",
       "      <td>False</td>\n",
       "      <td>False</td>\n",
       "      <td>False</td>\n",
       "      <td>False</td>\n",
       "      <td>...</td>\n",
       "      <td>False</td>\n",
       "      <td>False</td>\n",
       "      <td>False</td>\n",
       "      <td>False</td>\n",
       "      <td>False</td>\n",
       "      <td>False</td>\n",
       "      <td>False</td>\n",
       "      <td>False</td>\n",
       "      <td>False</td>\n",
       "      <td>False</td>\n",
       "    </tr>\n",
       "    <tr>\n",
       "      <th>1255</th>\n",
       "      <td>32</td>\n",
       "      <td>False</td>\n",
       "      <td>False</td>\n",
       "      <td>False</td>\n",
       "      <td>False</td>\n",
       "      <td>False</td>\n",
       "      <td>False</td>\n",
       "      <td>False</td>\n",
       "      <td>False</td>\n",
       "      <td>False</td>\n",
       "      <td>...</td>\n",
       "      <td>False</td>\n",
       "      <td>False</td>\n",
       "      <td>False</td>\n",
       "      <td>False</td>\n",
       "      <td>False</td>\n",
       "      <td>False</td>\n",
       "      <td>False</td>\n",
       "      <td>False</td>\n",
       "      <td>False</td>\n",
       "      <td>False</td>\n",
       "    </tr>\n",
       "    <tr>\n",
       "      <th>1256</th>\n",
       "      <td>34</td>\n",
       "      <td>False</td>\n",
       "      <td>False</td>\n",
       "      <td>False</td>\n",
       "      <td>False</td>\n",
       "      <td>False</td>\n",
       "      <td>False</td>\n",
       "      <td>False</td>\n",
       "      <td>False</td>\n",
       "      <td>False</td>\n",
       "      <td>...</td>\n",
       "      <td>False</td>\n",
       "      <td>False</td>\n",
       "      <td>False</td>\n",
       "      <td>False</td>\n",
       "      <td>False</td>\n",
       "      <td>False</td>\n",
       "      <td>False</td>\n",
       "      <td>False</td>\n",
       "      <td>False</td>\n",
       "      <td>False</td>\n",
       "    </tr>\n",
       "    <tr>\n",
       "      <th>1257</th>\n",
       "      <td>46</td>\n",
       "      <td>False</td>\n",
       "      <td>False</td>\n",
       "      <td>False</td>\n",
       "      <td>False</td>\n",
       "      <td>False</td>\n",
       "      <td>False</td>\n",
       "      <td>False</td>\n",
       "      <td>False</td>\n",
       "      <td>False</td>\n",
       "      <td>...</td>\n",
       "      <td>False</td>\n",
       "      <td>False</td>\n",
       "      <td>False</td>\n",
       "      <td>False</td>\n",
       "      <td>False</td>\n",
       "      <td>False</td>\n",
       "      <td>False</td>\n",
       "      <td>False</td>\n",
       "      <td>False</td>\n",
       "      <td>False</td>\n",
       "    </tr>\n",
       "    <tr>\n",
       "      <th>1258</th>\n",
       "      <td>25</td>\n",
       "      <td>False</td>\n",
       "      <td>False</td>\n",
       "      <td>False</td>\n",
       "      <td>False</td>\n",
       "      <td>False</td>\n",
       "      <td>False</td>\n",
       "      <td>False</td>\n",
       "      <td>False</td>\n",
       "      <td>False</td>\n",
       "      <td>...</td>\n",
       "      <td>False</td>\n",
       "      <td>False</td>\n",
       "      <td>False</td>\n",
       "      <td>False</td>\n",
       "      <td>False</td>\n",
       "      <td>False</td>\n",
       "      <td>False</td>\n",
       "      <td>False</td>\n",
       "      <td>False</td>\n",
       "      <td>False</td>\n",
       "    </tr>\n",
       "  </tbody>\n",
       "</table>\n",
       "<p>1259 rows × 1612 columns</p>\n",
       "</div>"
      ]
     },
     "execution_count": 4,
     "metadata": {},
     "output_type": "execute_result"
    }
   ],
   "execution_count": 4
  },
  {
   "metadata": {
    "ExecuteTime": {
     "end_time": "2024-11-07T19:37:12.011073Z",
     "start_time": "2024-11-07T19:37:12.009660Z"
    }
   },
   "cell_type": "code",
   "source": [
    "# getting input for variables (eventually to be replaced by web-app\n",
    "# usr_age = input('Enter your age: ')\n",
    "# usr_gender = input('Enter your gender (M, F, NB, NA): ')\n",
    "# usr_sleep = input('How many hours a night do you sleep? : ')\n",
    "# usr_work = input('How many hours a week do you work? : ')\n",
    "# usr_fitness = input('How many hours a week do you excercise? : ')\n",
    "# usr_consult = input('Have you been consulted for a mental health condition in the past?: ')\n",
    "# usr_stress = input('What is your stress level?: ')\n"
   ],
   "id": "c46f63ba2bc37d3",
   "outputs": [],
   "execution_count": 38
  },
  {
   "metadata": {
    "ExecuteTime": {
     "end_time": "2024-11-25T13:22:42.806963Z",
     "start_time": "2024-11-25T13:22:42.740779Z"
    }
   },
   "cell_type": "code",
   "source": [
    "#correlation btwn age and hours worked\n",
    "plt.figure(figsize=(10, 6))\n",
    "plt.scatter(data['mental_health_interview'], data['mental_health_consequence'], alpha=0.5)\n",
    "plt.title(\"Correlation between Age and Work Hours\")\n",
    "plt.xlabel(\"interview\")\n",
    "plt.ylabel(\"consequence\")\n",
    "plt.grid(True)\n",
    "plt.show()"
   ],
   "id": "f3483cd12ed2c4f",
   "outputs": [
    {
     "data": {
      "text/plain": [
       "<Figure size 1000x600 with 1 Axes>"
      ],
      "image/png": "[encoded data removed]"
     },
     "metadata": {},
     "output_type": "display_data"
    }
   ],
   "execution_count": 8
  },
  {
   "metadata": {
    "ExecuteTime": {
     "end_time": "2024-11-25T13:21:58.447727Z",
     "start_time": "2024-11-25T13:21:57.933655Z"
    }
   },
   "cell_type": "code",
   "source": "plt.bar(data['mental_health_interview'], data['mental_health_consequence'], color='blue')",
   "id": "84e3cfec0631d8f7",
   "outputs": [
    {
     "data": {
      "text/plain": [
       "<BarContainer object of 1259 artists>"
      ]
     },
     "execution_count": 6,
     "metadata": {},
     "output_type": "execute_result"
    },
    {
     "data": {
      "text/plain": [
       "<Figure size 640x480 with 1 Axes>"
      ],
      "image/png": "[encoded data removed]"
     },
     "metadata": {},
     "output_type": "display_data"
    }
   ],
   "execution_count": 6
  },
  {
   "metadata": {
    "ExecuteTime": {
     "end_time": "2024-11-07T19:37:12.522623Z",
     "start_time": "2024-11-07T19:37:12.519270Z"
    }
   },
   "cell_type": "code",
   "source": [
    "label_encoders = {}\n",
    "categorical_columns = ['Gender', 'Occupation', 'Country', 'Severity', 'Consultation_History', 'Stress_Level']"
   ],
   "id": "9af267353b1ce98e",
   "outputs": [],
   "execution_count": 41
  },
  {
   "metadata": {
    "ExecuteTime": {
     "end_time": "2024-11-07T19:37:12.531001Z",
     "start_time": "2024-11-07T19:37:12.524710Z"
    }
   },
   "cell_type": "code",
   "source": [
    "# loop to convert values into numerical data that can be used by the model\n",
    "for column in categorical_columns: \n",
    "    le = LabelEncoder()\n",
    "    data[column] = le.fit_transform(data[column])\n",
    "    label_encoders[column] = le"
   ],
   "id": "8bcea14baac59e71",
   "outputs": [],
   "execution_count": 42
  },
  {
   "metadata": {
    "ExecuteTime": {
     "end_time": "2024-11-07T19:37:12.537142Z",
     "start_time": "2024-11-07T19:37:12.532591Z"
    }
   },
   "cell_type": "code",
   "source": [
    "# selects target data, which is mental health condition in this case (we are trying to predict it)\n",
    "target_encoder = LabelEncoder()\n",
    "data['Mental_Health_Condition'] = target_encoder.fit_transform(data['Mental_Health_Condition'])"
   ],
   "id": "8717d49dd5fd7b31",
   "outputs": [],
   "execution_count": 43
  },
  {
   "metadata": {
    "ExecuteTime": {
     "end_time": "2024-11-07T19:37:12.549405Z",
     "start_time": "2024-11-07T19:37:12.542998Z"
    }
   },
   "cell_type": "code",
   "source": [
    "# sets features and target\n",
    "features = ['Age', 'Gender', 'Stress_Level', 'Sleep_Hours', 'Work_Hours', 'Physical_Activity_Hours']\n",
    "target = 'Mental_Health_Condition'"
   ],
   "id": "37ee04eaa8e91677",
   "outputs": [],
   "execution_count": 44
  },
  {
   "metadata": {
    "ExecuteTime": {
     "end_time": "2024-11-07T19:37:12.558923Z",
     "start_time": "2024-11-07T19:37:12.554621Z"
    }
   },
   "cell_type": "code",
   "source": [
    "X = data[features] # conventional names to represent feats and target are X and y\n",
    "y = data[target]"
   ],
   "id": "e31d17021a0e9b5a",
   "outputs": [],
   "execution_count": 45
  },
  {
   "metadata": {
    "ExecuteTime": {
     "end_time": "2024-11-07T19:37:12.569914Z",
     "start_time": "2024-11-07T19:37:12.561172Z"
    }
   },
   "cell_type": "code",
   "source": [
    "#for normalizing data (scales x so mean to 0 and SD to 1)\n",
    "scaler = StandardScaler()\n",
    "X = scaler.fit_transform(X) "
   ],
   "id": "824b722a43e539e9",
   "outputs": [],
   "execution_count": 46
  },
  {
   "metadata": {
    "ExecuteTime": {
     "end_time": "2024-11-07T19:37:12.576877Z",
     "start_time": "2024-11-07T19:37:12.571451Z"
    }
   },
   "cell_type": "code",
   "source": [
    "# splitting training and testing data 70% 30%\n",
    "X_train, X_test, y_train, y_test = train_test_split(X, y, test_size=0.3, random_state=13)\n"
   ],
   "id": "889c8ea589ed3327",
   "outputs": [],
   "execution_count": 47
  },
  {
   "metadata": {
    "ExecuteTime": {
     "end_time": "2024-11-07T19:37:12.580922Z",
     "start_time": "2024-11-07T19:37:12.577540Z"
    }
   },
   "cell_type": "code",
   "source": [
    "# making tensors based off data\n",
    "X_train_tensor = torch.tensor(X_train, dtype=torch.float32)\n",
    "X_test_tensor = torch.tensor(X_test, dtype=torch.float32)\n",
    "y_train_tensor = torch.tensor(y_train.values, dtype=torch.long)\n",
    "y_test_tensor = torch.tensor(y_test.values, dtype=torch.long)"
   ],
   "id": "4838b3f4c2818b3b",
   "outputs": [],
   "execution_count": 48
  },
  {
   "metadata": {
    "ExecuteTime": {
     "end_time": "2024-11-07T19:37:12.585610Z",
     "start_time": "2024-11-07T19:37:12.582113Z"
    }
   },
   "cell_type": "code",
   "source": [
    "print(X_train_tensor.shape)\n",
    "print(X_test_tensor.shape)\n",
    "print(y_train_tensor.shape)\n",
    "print(y_test_tensor.shape)"
   ],
   "id": "9bedb962c903657c",
   "outputs": [
    {
     "name": "stdout",
     "output_type": "stream",
     "text": [
      "torch.Size([700, 6])\n",
      "torch.Size([300, 6])\n",
      "torch.Size([700])\n",
      "torch.Size([300])\n"
     ]
    }
   ],
   "execution_count": 49
  },
  {
   "metadata": {
    "ExecuteTime": {
     "end_time": "2024-11-07T20:53:09.126735Z",
     "start_time": "2024-11-07T20:53:09.117156Z"
    }
   },
   "cell_type": "code",
   "source": [
    "#MODEL CREATION\n",
    "class MentalHealthModel(nn.Module):\n",
    "    def __init__(self, input_size):\n",
    "        super(MentalHealthModel, self).__init__()\n",
    "        self.fc1 = nn.Linear(input_size, 32)\n",
    "        self.fc2 = nn.Linear(32, 16)\n",
    "        self.fc3 = nn.Linear(16, 8)\n",
    "        self.fc4 = nn.Linear(8, 2)  # 2 output classes: Yes or No\n",
    "        self.dropout = nn.Dropout(0.3)  # Dropout layer with 30% probability\n",
    "\n",
    "    def forward(self, x):\n",
    "        x = torch.relu(self.fc1(x))\n",
    "        x = self.dropout(x)\n",
    "        x = torch.relu(self.fc2(x))\n",
    "        x = self.dropout(x)\n",
    "        x = torch.relu(self.fc3(x))\n",
    "        x = self.fc4(x)\n",
    "        return x"
   ],
   "id": "c2a3b6f56d3f7fc",
   "outputs": [],
   "execution_count": 77
  },
  {
   "metadata": {
    "ExecuteTime": {
     "end_time": "2024-11-07T20:53:12.052739Z",
     "start_time": "2024-11-07T20:53:12.044681Z"
    }
   },
   "cell_type": "code",
   "source": [
    "input_size = X_train_tensor.shape[1] \n",
    "model = MentalHealthModel(input_size) # model initialized\n",
    "criterion = nn.CrossEntropyLoss() # loss function initialized\n",
    "optimizer = optim.Adam(model.parameters(), lr=0.001) # optimizer initialized\n"
   ],
   "id": "a751c0ec8c74fd2c",
   "outputs": [],
   "execution_count": 78
  },
  {
   "metadata": {
    "ExecuteTime": {
     "end_time": "2024-11-07T20:53:19.063956Z",
     "start_time": "2024-11-07T20:53:18.983256Z"
    }
   },
   "cell_type": "code",
   "source": [
    "# training model\n",
    "epochs = 100\n",
    "for epoch in range(epochs):\n",
    "    model.train()\n",
    "    optimizer.zero_grad()\n",
    "    \n",
    "    # fwd pass\n",
    "    outputs = model(X_train_tensor)\n",
    "    loss = criterion(outputs, y_train_tensor)\n",
    "    \n",
    "    # calc loss; optimizer step\n",
    "    loss.backward()\n",
    "    optimizer.step()\n",
    "    # print every 10 epochs\n",
    "    if (epoch+1) % 10 == 0:\n",
    "        print(f'Epoch [{epoch+1}/{epochs}], Loss: {loss.item():.4f}')\n"
   ],
   "id": "10c64210a63555b0",
   "outputs": [
    {
     "name": "stdout",
     "output_type": "stream",
     "text": [
      "Epoch [10/100], Loss: 0.6928\n",
      "Epoch [20/100], Loss: 0.6931\n",
      "Epoch [30/100], Loss: 0.6914\n",
      "Epoch [40/100], Loss: 0.6909\n",
      "Epoch [50/100], Loss: 0.6908\n",
      "Epoch [60/100], Loss: 0.6893\n",
      "Epoch [70/100], Loss: 0.6891\n",
      "Epoch [80/100], Loss: 0.6881\n",
      "Epoch [90/100], Loss: 0.6890\n",
      "Epoch [100/100], Loss: 0.6886\n"
     ]
    }
   ],
   "execution_count": 79
  },
  {
   "metadata": {
    "ExecuteTime": {
     "end_time": "2024-11-07T20:53:27.830694Z",
     "start_time": "2024-11-07T20:53:27.825804Z"
    }
   },
   "cell_type": "code",
   "source": [
    "# model evaluation\n",
    "model.eval()\n",
    "with torch.no_grad():\n",
    "    outputs = model(X_test_tensor)\n",
    "    _, predicted = torch.max(outputs, 1)\n",
    "    accuracy = (predicted == y_test_tensor).sum().item() / y_test_tensor.size(0)\n",
    "    print(f'Accuracy: {accuracy * 100:.2f}%')\n"
   ],
   "id": "c932185f52970511",
   "outputs": [
    {
     "name": "stdout",
     "output_type": "stream",
     "text": [
      "Accuracy: 49.33%\n"
     ]
    }
   ],
   "execution_count": 80
  },
  {
   "metadata": {
    "ExecuteTime": {
     "end_time": "2024-11-07T20:53:39.665106Z",
     "start_time": "2024-11-07T20:53:39.662961Z"
    }
   },
   "cell_type": "code",
   "source": "",
   "id": "52cd67d0d53d8f6a",
   "outputs": [
    {
     "name": "stdout",
     "output_type": "stream",
     "text": [
      "100\n"
     ]
    }
   ],
   "execution_count": 81
  },
  {
   "metadata": {
    "ExecuteTime": {
     "end_time": "2024-11-07T19:37:12.658002Z",
     "start_time": "2024-11-07T19:37:12.656476Z"
    }
   },
   "cell_type": "code",
   "source": "",
   "id": "c198ae05afebc3f3",
   "outputs": [],
   "execution_count": 53
  }
 ],
 "metadata": {
  "kernelspec": {
   "display_name": "Python 3",
   "language": "python",
   "name": "python3"
  },
  "language_info": {
   "codemirror_mode": {
    "name": "ipython",
    "version": 2
   },
   "file_extension": ".py",
   "mimetype": "text/x-python",
   "name": "python",
   "nbconvert_exporter": "python",
   "pygments_lexer": "ipython2",
   "version": "2.7.6"
  }
 },
 "nbformat": 4,
 "nbformat_minor": 5
}
