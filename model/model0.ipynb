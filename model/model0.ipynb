{
 "cells": [
  {
   "cell_type": "code",
   "id": "initial_id",
   "metadata": {
    "collapsed": true,
    "ExecuteTime": {
     "end_time": "2024-11-07T19:31:37.797064Z",
     "start_time": "2024-11-07T19:31:35.855708Z"
    }
   },
   "source": [
    "import pandas as pd\n",
    "import matplotlib.pyplot as plt\n",
    "from sklearn.preprocessing import LabelEncoder, StandardScaler\n",
    "from sklearn.model_selection import train_test_split\n",
    "import torch\n",
    "import torch.nn as nn\n",
    "import torch.optim as optim"
   ],
   "outputs": [],
   "execution_count": 1
  },
  {
   "metadata": {
    "ExecuteTime": {
     "end_time": "2024-11-07T19:31:37.806091Z",
     "start_time": "2024-11-07T19:31:37.798064Z"
    }
   },
   "cell_type": "code",
   "source": [
    "data = pd.read_csv('dataset/mental_health_dataset.csv') # Gets data from model\n",
    "print(data.head())"
   ],
   "id": "703f2cc978cb305c",
   "outputs": [
    {
     "name": "stdout",
     "output_type": "stream",
     "text": [
      "   User_ID  Age      Gender  Occupation    Country Mental_Health_Condition  \\\n",
      "0        1   36  Non-binary       Sales     Canada                      No   \n",
      "1        2   34      Female   Education         UK                     Yes   \n",
      "2        3   65  Non-binary       Sales        USA                     Yes   \n",
      "3        4   34        Male       Other  Australia                      No   \n",
      "4        5   22      Female  Healthcare     Canada                     Yes   \n",
      "\n",
      "  Severity Consultation_History Stress_Level  Sleep_Hours  Work_Hours  \\\n",
      "0   Medium                  Yes       Medium          7.1          46   \n",
      "1      NaN                   No          Low          7.5          47   \n",
      "2     High                   No          Low          8.4          58   \n",
      "3      Low                   No       Medium          9.8          30   \n",
      "4      Low                   No       Medium          4.9          62   \n",
      "\n",
      "   Physical_Activity_Hours  \n",
      "0                        5  \n",
      "1                        8  \n",
      "2                       10  \n",
      "3                        2  \n",
      "4                        5  \n"
     ]
    }
   ],
   "execution_count": 2
  },
  {
   "metadata": {
    "ExecuteTime": {
     "end_time": "2024-11-07T19:31:37.822012Z",
     "start_time": "2024-11-07T19:31:37.806763Z"
    }
   },
   "cell_type": "code",
   "source": "pd.get_dummies(data)",
   "id": "d816b6af6cd76aa3",
   "outputs": [
    {
     "data": {
      "text/plain": [
       "     User_ID  Age  Sleep_Hours  Work_Hours  Physical_Activity_Hours  \\\n",
       "0          1   36          7.1          46                        5   \n",
       "1          2   34          7.5          47                        8   \n",
       "2          3   65          8.4          58                       10   \n",
       "3          4   34          9.8          30                        2   \n",
       "4          5   22          4.9          62                        5   \n",
       "..       ...  ...          ...         ...                      ...   \n",
       "995      996   46          9.3          50                        0   \n",
       "996      997   31          4.5          37                        6   \n",
       "997      998   33          9.7          73                       10   \n",
       "998      999   42          6.5          79                        8   \n",
       "999     1000   43          6.0          61                        7   \n",
       "\n",
       "     Gender_Female  Gender_Male  Gender_Non-binary  Gender_Prefer not to say  \\\n",
       "0            False        False               True                     False   \n",
       "1             True        False              False                     False   \n",
       "2            False        False               True                     False   \n",
       "3            False         True              False                     False   \n",
       "4             True        False              False                     False   \n",
       "..             ...          ...                ...                       ...   \n",
       "995          False        False               True                     False   \n",
       "996          False         True              False                     False   \n",
       "997           True        False              False                     False   \n",
       "998           True        False              False                     False   \n",
       "999          False        False              False                      True   \n",
       "\n",
       "     Occupation_Education  ...  Mental_Health_Condition_No  \\\n",
       "0                   False  ...                        True   \n",
       "1                    True  ...                       False   \n",
       "2                   False  ...                       False   \n",
       "3                   False  ...                        True   \n",
       "4                   False  ...                       False   \n",
       "..                    ...  ...                         ...   \n",
       "995                 False  ...                        True   \n",
       "996                 False  ...                        True   \n",
       "997                 False  ...                        True   \n",
       "998                 False  ...                       False   \n",
       "999                 False  ...                        True   \n",
       "\n",
       "     Mental_Health_Condition_Yes  Severity_High  Severity_Low  \\\n",
       "0                          False          False         False   \n",
       "1                           True          False         False   \n",
       "2                           True           True         False   \n",
       "3                          False          False          True   \n",
       "4                           True          False          True   \n",
       "..                           ...            ...           ...   \n",
       "995                        False          False         False   \n",
       "996                        False          False         False   \n",
       "997                        False           True         False   \n",
       "998                         True          False         False   \n",
       "999                        False          False          True   \n",
       "\n",
       "     Severity_Medium  Consultation_History_No  Consultation_History_Yes  \\\n",
       "0               True                    False                      True   \n",
       "1              False                     True                     False   \n",
       "2              False                     True                     False   \n",
       "3              False                     True                     False   \n",
       "4              False                     True                     False   \n",
       "..               ...                      ...                       ...   \n",
       "995            False                    False                      True   \n",
       "996            False                     True                     False   \n",
       "997            False                    False                      True   \n",
       "998            False                     True                     False   \n",
       "999            False                    False                      True   \n",
       "\n",
       "     Stress_Level_High  Stress_Level_Low  Stress_Level_Medium  \n",
       "0                False             False                 True  \n",
       "1                False              True                False  \n",
       "2                False              True                False  \n",
       "3                False             False                 True  \n",
       "4                False             False                 True  \n",
       "..                 ...               ...                  ...  \n",
       "995              False              True                False  \n",
       "996               True             False                False  \n",
       "997              False             False                 True  \n",
       "998              False             False                 True  \n",
       "999              False              True                False  \n",
       "\n",
       "[1000 rows x 33 columns]"
      ],
      "text/html": [
       "<div>\n",
       "<style scoped>\n",
       "    .dataframe tbody tr th:only-of-type {\n",
       "        vertical-align: middle;\n",
       "    }\n",
       "\n",
       "    .dataframe tbody tr th {\n",
       "        vertical-align: top;\n",
       "    }\n",
       "\n",
       "    .dataframe thead th {\n",
       "        text-align: right;\n",
       "    }\n",
       "</style>\n",
       "<table border=\"1\" class=\"dataframe\">\n",
       "  <thead>\n",
       "    <tr style=\"text-align: right;\">\n",
       "      <th></th>\n",
       "      <th>User_ID</th>\n",
       "      <th>Age</th>\n",
       "      <th>Sleep_Hours</th>\n",
       "      <th>Work_Hours</th>\n",
       "      <th>Physical_Activity_Hours</th>\n",
       "      <th>Gender_Female</th>\n",
       "      <th>Gender_Male</th>\n",
       "      <th>Gender_Non-binary</th>\n",
       "      <th>Gender_Prefer not to say</th>\n",
       "      <th>Occupation_Education</th>\n",
       "      <th>...</th>\n",
       "      <th>Mental_Health_Condition_No</th>\n",
       "      <th>Mental_Health_Condition_Yes</th>\n",
       "      <th>Severity_High</th>\n",
       "      <th>Severity_Low</th>\n",
       "      <th>Severity_Medium</th>\n",
       "      <th>Consultation_History_No</th>\n",
       "      <th>Consultation_History_Yes</th>\n",
       "      <th>Stress_Level_High</th>\n",
       "      <th>Stress_Level_Low</th>\n",
       "      <th>Stress_Level_Medium</th>\n",
       "    </tr>\n",
       "  </thead>\n",
       "  <tbody>\n",
       "    <tr>\n",
       "      <th>0</th>\n",
       "      <td>1</td>\n",
       "      <td>36</td>\n",
       "      <td>7.1</td>\n",
       "      <td>46</td>\n",
       "      <td>5</td>\n",
       "      <td>False</td>\n",
       "      <td>False</td>\n",
       "      <td>True</td>\n",
       "      <td>False</td>\n",
       "      <td>False</td>\n",
       "      <td>...</td>\n",
       "      <td>True</td>\n",
       "      <td>False</td>\n",
       "      <td>False</td>\n",
       "      <td>False</td>\n",
       "      <td>True</td>\n",
       "      <td>False</td>\n",
       "      <td>True</td>\n",
       "      <td>False</td>\n",
       "      <td>False</td>\n",
       "      <td>True</td>\n",
       "    </tr>\n",
       "    <tr>\n",
       "      <th>1</th>\n",
       "      <td>2</td>\n",
       "      <td>34</td>\n",
       "      <td>7.5</td>\n",
       "      <td>47</td>\n",
       "      <td>8</td>\n",
       "      <td>True</td>\n",
       "      <td>False</td>\n",
       "      <td>False</td>\n",
       "      <td>False</td>\n",
       "      <td>True</td>\n",
       "      <td>...</td>\n",
       "      <td>False</td>\n",
       "      <td>True</td>\n",
       "      <td>False</td>\n",
       "      <td>False</td>\n",
       "      <td>False</td>\n",
       "      <td>True</td>\n",
       "      <td>False</td>\n",
       "      <td>False</td>\n",
       "      <td>True</td>\n",
       "      <td>False</td>\n",
       "    </tr>\n",
       "    <tr>\n",
       "      <th>2</th>\n",
       "      <td>3</td>\n",
       "      <td>65</td>\n",
       "      <td>8.4</td>\n",
       "      <td>58</td>\n",
       "      <td>10</td>\n",
       "      <td>False</td>\n",
       "      <td>False</td>\n",
       "      <td>True</td>\n",
       "      <td>False</td>\n",
       "      <td>False</td>\n",
       "      <td>...</td>\n",
       "      <td>False</td>\n",
       "      <td>True</td>\n",
       "      <td>True</td>\n",
       "      <td>False</td>\n",
       "      <td>False</td>\n",
       "      <td>True</td>\n",
       "      <td>False</td>\n",
       "      <td>False</td>\n",
       "      <td>True</td>\n",
       "      <td>False</td>\n",
       "    </tr>\n",
       "    <tr>\n",
       "      <th>3</th>\n",
       "      <td>4</td>\n",
       "      <td>34</td>\n",
       "      <td>9.8</td>\n",
       "      <td>30</td>\n",
       "      <td>2</td>\n",
       "      <td>False</td>\n",
       "      <td>True</td>\n",
       "      <td>False</td>\n",
       "      <td>False</td>\n",
       "      <td>False</td>\n",
       "      <td>...</td>\n",
       "      <td>True</td>\n",
       "      <td>False</td>\n",
       "      <td>False</td>\n",
       "      <td>True</td>\n",
       "      <td>False</td>\n",
       "      <td>True</td>\n",
       "      <td>False</td>\n",
       "      <td>False</td>\n",
       "      <td>False</td>\n",
       "      <td>True</td>\n",
       "    </tr>\n",
       "    <tr>\n",
       "      <th>4</th>\n",
       "      <td>5</td>\n",
       "      <td>22</td>\n",
       "      <td>4.9</td>\n",
       "      <td>62</td>\n",
       "      <td>5</td>\n",
       "      <td>True</td>\n",
       "      <td>False</td>\n",
       "      <td>False</td>\n",
       "      <td>False</td>\n",
       "      <td>False</td>\n",
       "      <td>...</td>\n",
       "      <td>False</td>\n",
       "      <td>True</td>\n",
       "      <td>False</td>\n",
       "      <td>True</td>\n",
       "      <td>False</td>\n",
       "      <td>True</td>\n",
       "      <td>False</td>\n",
       "      <td>False</td>\n",
       "      <td>False</td>\n",
       "      <td>True</td>\n",
       "    </tr>\n",
       "    <tr>\n",
       "      <th>...</th>\n",
       "      <td>...</td>\n",
       "      <td>...</td>\n",
       "      <td>...</td>\n",
       "      <td>...</td>\n",
       "      <td>...</td>\n",
       "      <td>...</td>\n",
       "      <td>...</td>\n",
       "      <td>...</td>\n",
       "      <td>...</td>\n",
       "      <td>...</td>\n",
       "      <td>...</td>\n",
       "      <td>...</td>\n",
       "      <td>...</td>\n",
       "      <td>...</td>\n",
       "      <td>...</td>\n",
       "      <td>...</td>\n",
       "      <td>...</td>\n",
       "      <td>...</td>\n",
       "      <td>...</td>\n",
       "      <td>...</td>\n",
       "      <td>...</td>\n",
       "    </tr>\n",
       "    <tr>\n",
       "      <th>995</th>\n",
       "      <td>996</td>\n",
       "      <td>46</td>\n",
       "      <td>9.3</td>\n",
       "      <td>50</td>\n",
       "      <td>0</td>\n",
       "      <td>False</td>\n",
       "      <td>False</td>\n",
       "      <td>True</td>\n",
       "      <td>False</td>\n",
       "      <td>False</td>\n",
       "      <td>...</td>\n",
       "      <td>True</td>\n",
       "      <td>False</td>\n",
       "      <td>False</td>\n",
       "      <td>False</td>\n",
       "      <td>False</td>\n",
       "      <td>False</td>\n",
       "      <td>True</td>\n",
       "      <td>False</td>\n",
       "      <td>True</td>\n",
       "      <td>False</td>\n",
       "    </tr>\n",
       "    <tr>\n",
       "      <th>996</th>\n",
       "      <td>997</td>\n",
       "      <td>31</td>\n",
       "      <td>4.5</td>\n",
       "      <td>37</td>\n",
       "      <td>6</td>\n",
       "      <td>False</td>\n",
       "      <td>True</td>\n",
       "      <td>False</td>\n",
       "      <td>False</td>\n",
       "      <td>False</td>\n",
       "      <td>...</td>\n",
       "      <td>True</td>\n",
       "      <td>False</td>\n",
       "      <td>False</td>\n",
       "      <td>False</td>\n",
       "      <td>False</td>\n",
       "      <td>True</td>\n",
       "      <td>False</td>\n",
       "      <td>True</td>\n",
       "      <td>False</td>\n",
       "      <td>False</td>\n",
       "    </tr>\n",
       "    <tr>\n",
       "      <th>997</th>\n",
       "      <td>998</td>\n",
       "      <td>33</td>\n",
       "      <td>9.7</td>\n",
       "      <td>73</td>\n",
       "      <td>10</td>\n",
       "      <td>True</td>\n",
       "      <td>False</td>\n",
       "      <td>False</td>\n",
       "      <td>False</td>\n",
       "      <td>False</td>\n",
       "      <td>...</td>\n",
       "      <td>True</td>\n",
       "      <td>False</td>\n",
       "      <td>True</td>\n",
       "      <td>False</td>\n",
       "      <td>False</td>\n",
       "      <td>False</td>\n",
       "      <td>True</td>\n",
       "      <td>False</td>\n",
       "      <td>False</td>\n",
       "      <td>True</td>\n",
       "    </tr>\n",
       "    <tr>\n",
       "      <th>998</th>\n",
       "      <td>999</td>\n",
       "      <td>42</td>\n",
       "      <td>6.5</td>\n",
       "      <td>79</td>\n",
       "      <td>8</td>\n",
       "      <td>True</td>\n",
       "      <td>False</td>\n",
       "      <td>False</td>\n",
       "      <td>False</td>\n",
       "      <td>False</td>\n",
       "      <td>...</td>\n",
       "      <td>False</td>\n",
       "      <td>True</td>\n",
       "      <td>False</td>\n",
       "      <td>False</td>\n",
       "      <td>False</td>\n",
       "      <td>True</td>\n",
       "      <td>False</td>\n",
       "      <td>False</td>\n",
       "      <td>False</td>\n",
       "      <td>True</td>\n",
       "    </tr>\n",
       "    <tr>\n",
       "      <th>999</th>\n",
       "      <td>1000</td>\n",
       "      <td>43</td>\n",
       "      <td>6.0</td>\n",
       "      <td>61</td>\n",
       "      <td>7</td>\n",
       "      <td>False</td>\n",
       "      <td>False</td>\n",
       "      <td>False</td>\n",
       "      <td>True</td>\n",
       "      <td>False</td>\n",
       "      <td>...</td>\n",
       "      <td>True</td>\n",
       "      <td>False</td>\n",
       "      <td>False</td>\n",
       "      <td>True</td>\n",
       "      <td>False</td>\n",
       "      <td>False</td>\n",
       "      <td>True</td>\n",
       "      <td>False</td>\n",
       "      <td>True</td>\n",
       "      <td>False</td>\n",
       "    </tr>\n",
       "  </tbody>\n",
       "</table>\n",
       "<p>1000 rows × 33 columns</p>\n",
       "</div>"
      ]
     },
     "execution_count": 3,
     "metadata": {},
     "output_type": "execute_result"
    }
   ],
   "execution_count": 3
  },
  {
   "metadata": {
    "ExecuteTime": {
     "end_time": "2024-11-07T19:31:37.824265Z",
     "start_time": "2024-11-07T19:31:37.822750Z"
    }
   },
   "cell_type": "code",
   "source": [
    "# getting input for variables (eventually to be replaced by web-app\n",
    "# usr_age = input('Enter your age: ')\n",
    "# usr_gender = input('Enter your gender (M, F, NB, NA): ')\n",
    "# usr_sleep = input('How many hours a night do you sleep? : ')\n",
    "# usr_work = input('How many hours a week do you work? : ')\n",
    "# usr_fitness = input('How many hours a week do you excercise? : ')\n",
    "# usr_consult = input('Have you been consulted for a mental health condition in the past?: ')\n",
    "# usr_stress = input('What is your stress level?: ')\n"
   ],
   "id": "c46f63ba2bc37d3",
   "outputs": [],
   "execution_count": 4
  },
  {
   "metadata": {
    "ExecuteTime": {
     "end_time": "2024-11-07T19:31:37.922217Z",
     "start_time": "2024-11-07T19:31:37.825795Z"
    }
   },
   "cell_type": "code",
   "source": [
    "#correlation btwn age and hours worked\n",
    "plt.figure(figsize=(10, 6))\n",
    "plt.scatter(data['Age'], data['Work_Hours'], alpha=0.5)\n",
    "plt.title(\"Correlation between Age and Work Hours\")\n",
    "plt.xlabel(\"Age\")\n",
    "plt.ylabel(\"Work Hours\")\n",
    "plt.grid(True)\n",
    "plt.show()"
   ],
   "id": "f3483cd12ed2c4f",
   "outputs": [
    {
     "data": {
      "text/plain": [
       "<Figure size 1000x600 with 1 Axes>"
      ],
      "image/png": "[encoded data removed]"
     },
     "metadata": {},
     "output_type": "display_data"
    }
   ],
   "execution_count": 5
  },
  {
   "metadata": {
    "ExecuteTime": {
     "end_time": "2024-11-07T19:31:38.344289Z",
     "start_time": "2024-11-07T19:31:37.923434Z"
    }
   },
   "cell_type": "code",
   "source": "plt.bar(data['Gender'], data['Sleep_Hours'], color='blue')",
   "id": "84e3cfec0631d8f7",
   "outputs": [
    {
     "data": {
      "text/plain": [
       "<BarContainer object of 1000 artists>"
      ]
     },
     "execution_count": 6,
     "metadata": {},
     "output_type": "execute_result"
    },
    {
     "data": {
      "text/plain": [
       "<Figure size 640x480 with 1 Axes>"
      ],
      "image/png": "[encoded data removed]"
     },
     "metadata": {},
     "output_type": "display_data"
    }
   ],
   "execution_count": 6
  },
  {
   "metadata": {
    "ExecuteTime": {
     "end_time": "2024-11-07T19:31:38.347253Z",
     "start_time": "2024-11-07T19:31:38.345072Z"
    }
   },
   "cell_type": "code",
   "source": [
    "label_encoders = {}\n",
    "categorical_columns = ['Gender', 'Occupation', 'Country', 'Severity', 'Consultation_History', 'Stress_Level']"
   ],
   "id": "9af267353b1ce98e",
   "outputs": [],
   "execution_count": 7
  },
  {
   "metadata": {
    "ExecuteTime": {
     "end_time": "2024-11-07T19:31:38.351314Z",
     "start_time": "2024-11-07T19:31:38.347973Z"
    }
   },
   "cell_type": "code",
   "source": [
    "# loop to convert values into numerical data that can be used by the model\n",
    "for column in categorical_columns: \n",
    "    le = LabelEncoder()\n",
    "    data[column] = le.fit_transform(data[column])\n",
    "    label_encoders[column] = le"
   ],
   "id": "8bcea14baac59e71",
   "outputs": [],
   "execution_count": 8
  },
  {
   "metadata": {
    "ExecuteTime": {
     "end_time": "2024-11-07T19:31:38.353915Z",
     "start_time": "2024-11-07T19:31:38.351957Z"
    }
   },
   "cell_type": "code",
   "source": [
    "# selects target data, which is mental health condition in this case (we are trying to predict it)\n",
    "target_encoder = LabelEncoder()\n",
    "data['Mental_Health_Condition'] = target_encoder.fit_transform(data['Mental_Health_Condition'])"
   ],
   "id": "8717d49dd5fd7b31",
   "outputs": [],
   "execution_count": 9
  },
  {
   "metadata": {
    "ExecuteTime": {
     "end_time": "2024-11-07T19:31:38.356540Z",
     "start_time": "2024-11-07T19:31:38.354532Z"
    }
   },
   "cell_type": "code",
   "source": [
    "# sets features and target\n",
    "features = ['Age', 'Gender', 'Stress_Level', 'Sleep_Hours', 'Work_Hours', 'Physical_Activity_Hours']\n",
    "target = 'Mental_Health_Condition'"
   ],
   "id": "37ee04eaa8e91677",
   "outputs": [],
   "execution_count": 10
  },
  {
   "metadata": {
    "ExecuteTime": {
     "end_time": "2024-11-07T19:31:38.359261Z",
     "start_time": "2024-11-07T19:31:38.357233Z"
    }
   },
   "cell_type": "code",
   "source": [
    "X = data[features] # conventional names to represent feats and target are X and y\n",
    "y = data[target]"
   ],
   "id": "e31d17021a0e9b5a",
   "outputs": [],
   "execution_count": 11
  },
  {
   "metadata": {
    "ExecuteTime": {
     "end_time": "2024-11-07T19:31:38.363026Z",
     "start_time": "2024-11-07T19:31:38.359780Z"
    }
   },
   "cell_type": "code",
   "source": [
    "#for normalizing data (scales x so mean to 0 and SD to 1)\n",
    "scaler = StandardScaler()\n",
    "X = scaler.fit_transform(X) "
   ],
   "id": "824b722a43e539e9",
   "outputs": [],
   "execution_count": 12
  },
  {
   "metadata": {
    "ExecuteTime": {
     "end_time": "2024-11-07T19:31:38.366507Z",
     "start_time": "2024-11-07T19:31:38.363709Z"
    }
   },
   "cell_type": "code",
   "source": [
    "# splitting training and testing data 70% 30%\n",
    "X_train, X_test, y_train, y_test = train_test_split(X, y, test_size=0.3, random_state=13)\n"
   ],
   "id": "889c8ea589ed3327",
   "outputs": [],
   "execution_count": 13
  },
  {
   "metadata": {
    "ExecuteTime": {
     "end_time": "2024-11-07T19:31:38.371304Z",
     "start_time": "2024-11-07T19:31:38.369015Z"
    }
   },
   "cell_type": "code",
   "source": [
    "# making tensors based off data\n",
    "X_train_tensor = torch.tensor(X_train, dtype=torch.float32)\n",
    "X_test_tensor = torch.tensor(X_test, dtype=torch.float32)\n",
    "y_train_tensor = torch.tensor(y_train.values, dtype=torch.long)\n",
    "y_test_tensor = torch.tensor(y_test.values, dtype=torch.long)"
   ],
   "id": "4838b3f4c2818b3b",
   "outputs": [],
   "execution_count": 14
  },
  {
   "metadata": {
    "ExecuteTime": {
     "end_time": "2024-11-07T19:31:38.373559Z",
     "start_time": "2024-11-07T19:31:38.371930Z"
    }
   },
   "cell_type": "code",
   "source": [
    "print(X_train_tensor.shape)\n",
    "print(X_test_tensor.shape)\n",
    "print(y_train_tensor.shape)\n",
    "print(y_test_tensor.shape)"
   ],
   "id": "9bedb962c903657c",
   "outputs": [
    {
     "name": "stdout",
     "output_type": "stream",
     "text": [
      "torch.Size([700, 6])\n",
      "torch.Size([300, 6])\n",
      "torch.Size([700])\n",
      "torch.Size([300])\n"
     ]
    }
   ],
   "execution_count": 15
  },
  {
   "metadata": {
    "ExecuteTime": {
     "end_time": "2024-11-07T19:31:38.376831Z",
     "start_time": "2024-11-07T19:31:38.374012Z"
    }
   },
   "cell_type": "code",
   "source": [
    "#MODEL CREATION\n",
    "class MentalHealthModel(nn.Module):\n",
    "    def __init__(self, input_size):\n",
    "        super(MentalHealthModel, self).__init__()\n",
    "        # 3 fully connected linear layers\n",
    "        self.fc1 = nn.Linear(input_size, 32) # outputs 32 neurons from input_size\n",
    "        self.fc2 = nn.Linear(32, 16) # condenses 32 to 16\n",
    "        self.fc3 = nn.Linear(16, 16) # condenses 16 neurons down to 8\n",
    "        self.fc4 = nn.Linear(16, 2) # takes in the 8 returned from fc2 and outputs bool value\n",
    "        \n",
    "    #FORWARD PASS\n",
    "\n",
    "    def forward(self, x):\n",
    "        x = torch.relu(self.fc1(x)) #NON-LINEAR LAYERS \n",
    "        x = torch.relu(self.fc2(x))\n",
    "        x = torch.relu(self.fc3(x))\n",
    "        x = self.fc3(x)\n",
    "        return x"
   ],
   "id": "c2a3b6f56d3f7fc",
   "outputs": [],
   "execution_count": 16
  },
  {
   "metadata": {
    "ExecuteTime": {
     "end_time": "2024-11-07T19:31:38.794308Z",
     "start_time": "2024-11-07T19:31:38.377358Z"
    }
   },
   "cell_type": "code",
   "source": [
    "input_size = X_train_tensor.shape[1] \n",
    "model = MentalHealthModel(input_size) # model initialized\n",
    "criterion = nn.CrossEntropyLoss() # loss function initialized\n",
    "optimizer = optim.Adam(model.parameters(), lr=0.001) # optimizer initialized\n"
   ],
   "id": "a751c0ec8c74fd2c",
   "outputs": [],
   "execution_count": 17
  },
  {
   "metadata": {
    "ExecuteTime": {
     "end_time": "2024-11-07T19:31:38.880838Z",
     "start_time": "2024-11-07T19:31:38.800690Z"
    }
   },
   "cell_type": "code",
   "source": [
    "# training model\n",
    "epochs = 100\n",
    "for epoch in range(epochs):\n",
    "    model.train()\n",
    "    optimizer.zero_grad()\n",
    "    \n",
    "    # fwd pass\n",
    "    outputs = model(X_train_tensor)\n",
    "    loss = criterion(outputs, y_train_tensor)\n",
    "    \n",
    "    # calc loss; optimizer step\n",
    "    loss.backward()\n",
    "    optimizer.step()\n",
    "    # print every 10 epochs\n",
    "    if (epoch+1) % 10 == 0:\n",
    "        print(f'Epoch [{epoch+1}/{epochs}], Loss: {loss.item():.4f}')\n"
   ],
   "id": "10c64210a63555b0",
   "outputs": [
    {
     "name": "stdout",
     "output_type": "stream",
     "text": [
      "Epoch [10/100], Loss: 2.6360\n",
      "Epoch [20/100], Loss: 2.5755\n",
      "Epoch [30/100], Loss: 2.5025\n",
      "Epoch [40/100], Loss: 2.4051\n",
      "Epoch [50/100], Loss: 2.2681\n",
      "Epoch [60/100], Loss: 2.0694\n",
      "Epoch [70/100], Loss: 1.7924\n",
      "Epoch [80/100], Loss: 1.4467\n",
      "Epoch [90/100], Loss: 1.1137\n",
      "Epoch [100/100], Loss: 0.8837\n"
     ]
    }
   ],
   "execution_count": 18
  },
  {
   "metadata": {
    "ExecuteTime": {
     "end_time": "2024-11-07T19:31:38.884925Z",
     "start_time": "2024-11-07T19:31:38.881752Z"
    }
   },
   "cell_type": "code",
   "source": [
    "# model evaluation\n",
    "model.eval()\n",
    "with torch.no_grad():\n",
    "    outputs = model(X_test_tensor)\n",
    "    _, predicted = torch.max(outputs, 1)\n",
    "    accuracy = (predicted == y_test_tensor).sum().item() / y_test_tensor.size(0)\n",
    "    print(f'Accuracy: {accuracy * 100:.2f}%')\n"
   ],
   "id": "c932185f52970511",
   "outputs": [
    {
     "name": "stdout",
     "output_type": "stream",
     "text": [
      "Accuracy: 50.33%\n"
     ]
    }
   ],
   "execution_count": 19
  },
  {
   "metadata": {
    "ExecuteTime": {
     "end_time": "2024-11-07T19:31:38.887195Z",
     "start_time": "2024-11-07T19:31:38.885553Z"
    }
   },
   "cell_type": "code",
   "source": "",
   "id": "52cd67d0d53d8f6a",
   "outputs": [],
   "execution_count": 19
  }
 ],
 "metadata": {
  "kernelspec": {
   "display_name": "Python 3",
   "language": "python",
   "name": "python3"
  },
  "language_info": {
   "codemirror_mode": {
    "name": "ipython",
    "version": 2
   },
   "file_extension": ".py",
   "mimetype": "text/x-python",
   "name": "python",
   "nbconvert_exporter": "python",
   "pygments_lexer": "ipython2",
   "version": "2.7.6"
  }
 },
 "nbformat": 4,
 "nbformat_minor": 5
}
